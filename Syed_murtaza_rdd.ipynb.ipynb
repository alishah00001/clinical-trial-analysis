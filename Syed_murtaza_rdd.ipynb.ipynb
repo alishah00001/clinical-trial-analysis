{
 "cells": [
  {
   "cell_type": "code",
   "execution_count": 0,
   "metadata": {
    "application/vnd.databricks.v1+cell": {
     "cellMetadata": {
      "byteLimit": 2048000,
      "rowLimit": 10000
     },
     "inputWidgets": {},
     "nuid": "65142fe1-17b6-4a4c-914b-596bf566ccc2",
     "showTitle": false,
     "title": ""
    }
   },
   "outputs": [
    {
     "output_type": "stream",
     "name": "stdout",
     "output_type": "stream",
     "text": [
      "+-----------+--------------------+----------+------------------+--------------------+--------------------+--------------------+--------------------+----------+-----------+--------------+--------------------+----------+----------+\n|         Id|         Study Title|   Acronym|            Status|          Conditions|       Interventions|             Sponsor|       Collaborators|Enrollment|Funder Type|          Type|        Study Design|     Start|Completion|\n+-----------+--------------------+----------+------------------+--------------------+--------------------+--------------------+--------------------+----------+-----------+--------------+--------------------+----------+----------+\n|NCT03630471|Effectiveness of ...|     PRIDE|         COMPLETED|Mental Health Iss...|BEHAVIORAL: PRIDE...|             Sangath|Harvard Medical S...|     250.0|      OTHER|INTERVENTIONAL|Allocation: RANDO...|2018-08-20|2019-02-28|\n|NCT05992571|Oral Ketone Monoe...|          |        RECRUITING|Cerebrovascular F...|OTHER: Placebo|DI...| McMaster University|Alzheimer's Socie...|      30.0|      OTHER|INTERVENTIONAL|Allocation: RANDO...|2023-10-25|   2024-08|\n|NCT00237471|Impact of Tight G...|          |        TERMINATED|Myocardial Infarc...|DRUG: Insulin (ti...|    Melbourne Health|National Health a...|      40.0|      OTHER|INTERVENTIONAL|Allocation: RANDO...|   2005-10|   2006-05|\n|NCT03820271|New Prognostic Pr...| SUPERMELD|        RECRUITING|Decompensated Cir...|    OTHER: SuperMELD|Assistance Publiq...|                    |     500.0|      OTHER|INTERVENTIONAL|Allocation: NA|In...|2020-10-01|2023-10-01|\n|NCT06229171|InTake Care: Deve...|InTakeCare|NOT_YET_RECRUITING|Hypertension|Trea...|OTHER: adherence ...|Istituto Auxologi...|Istituti Clinici ...|     206.0|      OTHER|INTERVENTIONAL|Allocation: RANDO...|2024-10-01|2026-04-01|\n|NCT02945371|Tailored Inhibito...|       REV|         COMPLETED|Smoking|Alcohol D...|BEHAVIORAL: Perso...|University of Oregon|                    |     103.0|      OTHER|INTERVENTIONAL|Allocation: RANDO...|   2014-09|   2016-05|\n|NCT01055171|Neuromodulation o...|          |         COMPLETED|Alcohol Dependenc...|DRUG: Propranolol...|Medical Universit...|National Institut...|      44.0|      OTHER|INTERVENTIONAL|Allocation: RANDO...|   2010-01|   2012-08|\n|NCT01125371|Computerized Brie...|          |         COMPLETED|Alcohol; Harmful ...|BEHAVIORAL: Compu...|Johns Hopkins Uni...|National Institut...|     439.0|      OTHER|INTERVENTIONAL|Allocation: RANDO...|   2011-10|2016-06-07|\n|NCT02554071|Manitoba Pharmaci...|          |         COMPLETED|   Smoking Cessation|OTHER: Pharmacist...|University of Man...|Govenment of Mani...|     119.0|      OTHER|INTERVENTIONAL|Allocation: NA|In...|   2014-01|   2014-11|\n|NCT01772771|Molecular Testing...|          |        RECRUITING|Glioma|Hematopoie...|PROCEDURE: Biospe...|M.D. Anderson Can...|National Cancer I...|   12000.0|      OTHER| OBSERVATIONAL|Observational Mod...|2012-03-01|2033-03-01|\n|NCT02633371|A Pilot Study Exp...|          |         COMPLETED|       Hyperhidrosis|DRUG: Oxybutynin ...|University of Col...|Society for Pedia...|      10.0|      OTHER|INTERVENTIONAL|Allocation: NA|In...|   2016-02|   2017-05|\n|NCT03400371|Biology of Juveni...|   BIOJUME|        RECRUITING|Juvenile Myocloni...|OTHER: Blood draw...|King's College Lo...|King's College Ho...|    1000.0|      OTHER| OBSERVATIONAL|Observational Mod...|2017-07-13|2026-06-30|\n|NCT00120471|Safety and Blood ...|          |         COMPLETED|      HIV Infections|DRUG: Tenofovir d...|National Institut...|Eunice Kennedy Sh...|     122.0|        NIH|INTERVENTIONAL|Allocation: RANDO...|   2006-11|   2011-12|\n|NCT04784871|Promoting Wellbei...|    5WaysA|         COMPLETED|Wellbeing|Health ...|BEHAVIORAL: 5ways...|  University of Oslo|Norwegian Institu...|     970.0|      OTHER|INTERVENTIONAL|Allocation: RANDO...|2021-03-04|2023-02-24|\n|NCT02383771|Reversal of the A...|  REVERSAL|         COMPLETED|Coronary Artery D...|DRUG: Ticagrelor|...|The First Affilia...|National Natural ...|      64.0|      OTHER|INTERVENTIONAL|Allocation: RANDO...|   2015-03|   2016-12|\n|NCT03269071|Neural Stem Cell ...|     STEMS|         COMPLETED|Progressive Multi...|DRUG: human fetal...|  IRCCS San Raffaele|Fondazione Italia...|       4.0|      OTHER|INTERVENTIONAL|Allocation: NON_R...|2017-05-17|2021-07-31|\n|NCT01659671|RCT of the Effect...|     SKUP3|         COMPLETED|Obstructive Sleep...|PROCEDURE: Uvulop...|Karolinska Univer...|Karolinska Instit...|      65.0|      OTHER|INTERVENTIONAL|Allocation: RANDO...|   2007-06|   2014-05|\n|NCT04765371|Comparison Betwee...|  COPreDex|         COMPLETED|Coronavirus Infec...|DRUG: DEXAMETHASO...|        Hôpital NOVO|                    |      89.0|      OTHER|INTERVENTIONAL|Allocation: RANDO...|2021-03-03|2022-05-13|\n|NCT02830971|Developing a Stan...|          |         COMPLETED|Registered Nurses...|PROCEDURE: Doing ...|Baqiyatallah Medi...|Shahid Beheshti U...|      60.0|      OTHER|INTERVENTIONAL|Allocation: NA|In...|   2016-07|2021-04-12|\n|NCT00416871|Interleukin-2 and...|          |         COMPLETED|       Kidney Cancer|BIOLOGICAL: aldes...|  Centre Leon Berard|                    |     220.0|      OTHER|INTERVENTIONAL|Allocation: RANDO...|          |   2006-02|\n+-----------+--------------------+----------+------------------+--------------------+--------------------+--------------------+--------------------+----------+-----------+--------------+--------------------+----------+----------+\nonly showing top 20 rows\n\n+-----------+--------------------+----------+------------------+--------------------+--------------------+--------------------+--------------------+----------+-----------+--------------+--------------------+----------+----------+\n|         Id|         Study Title|   Acronym|            Status|          Conditions|       Interventions|             Sponsor|       Collaborators|Enrollment|Funder Type|          Type|        Study Design|     Start|Completion|\n+-----------+--------------------+----------+------------------+--------------------+--------------------+--------------------+--------------------+----------+-----------+--------------+--------------------+----------+----------+\n|NCT03630471|Effectiveness of ...|     PRIDE|         COMPLETED|Mental Health Iss...|BEHAVIORAL: PRIDE...|             Sangath|Harvard Medical S...|     250.0|      OTHER|INTERVENTIONAL|Allocation: RANDO...|2018-08-20|2019-02-28|\n|NCT05992571|Oral Ketone Monoe...|          |        RECRUITING|Cerebrovascular F...|OTHER: Placebo|DI...| McMaster University|Alzheimer's Socie...|      30.0|      OTHER|INTERVENTIONAL|Allocation: RANDO...|2023-10-25|   2024-08|\n|NCT00237471|Impact of Tight G...|          |        TERMINATED|Myocardial Infarc...|DRUG: Insulin (ti...|    Melbourne Health|National Health a...|      40.0|      OTHER|INTERVENTIONAL|Allocation: RANDO...|   2005-10|   2006-05|\n|NCT03820271|New Prognostic Pr...| SUPERMELD|        RECRUITING|Decompensated Cir...|    OTHER: SuperMELD|Assistance Publiq...|                    |     500.0|      OTHER|INTERVENTIONAL|Allocation: NA|In...|2020-10-01|2023-10-01|\n|NCT06229171|InTake Care: Deve...|InTakeCare|NOT_YET_RECRUITING|Hypertension|Trea...|OTHER: adherence ...|Istituto Auxologi...|Istituti Clinici ...|     206.0|      OTHER|INTERVENTIONAL|Allocation: RANDO...|2024-10-01|2026-04-01|\n|NCT02945371|Tailored Inhibito...|       REV|         COMPLETED|Smoking|Alcohol D...|BEHAVIORAL: Perso...|University of Oregon|                    |     103.0|      OTHER|INTERVENTIONAL|Allocation: RANDO...|   2014-09|   2016-05|\n|NCT01055171|Neuromodulation o...|          |         COMPLETED|Alcohol Dependenc...|DRUG: Propranolol...|Medical Universit...|National Institut...|      44.0|      OTHER|INTERVENTIONAL|Allocation: RANDO...|   2010-01|   2012-08|\n|NCT01125371|Computerized Brie...|          |         COMPLETED|Alcohol; Harmful ...|BEHAVIORAL: Compu...|Johns Hopkins Uni...|National Institut...|     439.0|      OTHER|INTERVENTIONAL|Allocation: RANDO...|   2011-10|2016-06-07|\n|NCT02554071|Manitoba Pharmaci...|          |         COMPLETED|   Smoking Cessation|OTHER: Pharmacist...|University of Man...|Govenment of Mani...|     119.0|      OTHER|INTERVENTIONAL|Allocation: NA|In...|   2014-01|   2014-11|\n|NCT01772771|Molecular Testing...|          |        RECRUITING|Glioma|Hematopoie...|PROCEDURE: Biospe...|M.D. Anderson Can...|National Cancer I...|   12000.0|      OTHER| OBSERVATIONAL|Observational Mod...|2012-03-01|2033-03-01|\n|NCT02633371|A Pilot Study Exp...|          |         COMPLETED|       Hyperhidrosis|DRUG: Oxybutynin ...|University of Col...|Society for Pedia...|      10.0|      OTHER|INTERVENTIONAL|Allocation: NA|In...|   2016-02|   2017-05|\n|NCT03400371|Biology of Juveni...|   BIOJUME|        RECRUITING|Juvenile Myocloni...|OTHER: Blood draw...|King's College Lo...|King's College Ho...|    1000.0|      OTHER| OBSERVATIONAL|Observational Mod...|2017-07-13|2026-06-30|\n|NCT00120471|Safety and Blood ...|          |         COMPLETED|      HIV Infections|DRUG: Tenofovir d...|National Institut...|Eunice Kennedy Sh...|     122.0|        NIH|INTERVENTIONAL|Allocation: RANDO...|   2006-11|   2011-12|\n|NCT04784871|Promoting Wellbei...|    5WaysA|         COMPLETED|Wellbeing|Health ...|BEHAVIORAL: 5ways...|  University of Oslo|Norwegian Institu...|     970.0|      OTHER|INTERVENTIONAL|Allocation: RANDO...|2021-03-04|2023-02-24|\n|NCT02383771|Reversal of the A...|  REVERSAL|         COMPLETED|Coronary Artery D...|DRUG: Ticagrelor|...|The First Affilia...|National Natural ...|      64.0|      OTHER|INTERVENTIONAL|Allocation: RANDO...|   2015-03|   2016-12|\n|NCT03269071|Neural Stem Cell ...|     STEMS|         COMPLETED|Progressive Multi...|DRUG: human fetal...|  IRCCS San Raffaele|Fondazione Italia...|       4.0|      OTHER|INTERVENTIONAL|Allocation: NON_R...|2017-05-17|2021-07-31|\n|NCT01659671|RCT of the Effect...|     SKUP3|         COMPLETED|Obstructive Sleep...|PROCEDURE: Uvulop...|Karolinska Univer...|Karolinska Instit...|      65.0|      OTHER|INTERVENTIONAL|Allocation: RANDO...|   2007-06|   2014-05|\n|NCT04765371|Comparison Betwee...|  COPreDex|         COMPLETED|Coronavirus Infec...|DRUG: DEXAMETHASO...|        Hôpital NOVO|                    |      89.0|      OTHER|INTERVENTIONAL|Allocation: RANDO...|2021-03-03|2022-05-13|\n|NCT02830971|Developing a Stan...|          |         COMPLETED|Registered Nurses...|PROCEDURE: Doing ...|Baqiyatallah Medi...|Shahid Beheshti U...|      60.0|      OTHER|INTERVENTIONAL|Allocation: NA|In...|   2016-07|2021-04-12|\n|NCT00416871|Interleukin-2 and...|          |         COMPLETED|       Kidney Cancer|BIOLOGICAL: aldes...|  Centre Leon Berard|                    |     220.0|      OTHER|INTERVENTIONAL|Allocation: RANDO...|          |   2006-02|\n+-----------+--------------------+----------+------------------+--------------------+--------------------+--------------------+--------------------+----------+-----------+--------------+--------------------+----------+----------+\nonly showing top 20 rows\n\n"
     ]
    }
   ],
   "source": [
    "%python\n",
    "from pyspark.sql import SparkSession\n",
    "from pyspark.sql.types import StructType, StructField, StringType\n",
    "\n",
    "# Initialize Spark session\n",
    "spark = SparkSession.builder.appName(\"Data Cleaning\").getOrCreate()\n",
    "\n",
    "# Define the schema\n",
    "schema = StructType([\n",
    "    StructField(\"Id\", StringType(), True),\n",
    "    StructField(\"Study Title\", StringType(), True),\n",
    "    StructField(\"Acronym\", StringType(), True),\n",
    "    StructField(\"Status\", StringType(), True),\n",
    "    StructField(\"Conditions\", StringType(), True),\n",
    "    StructField(\"Interventions\", StringType(), True),\n",
    "    StructField(\"Sponsor\", StringType(), True),\n",
    "    StructField(\"Collaborators\", StringType(), True),\n",
    "    StructField(\"Enrollment\", StringType(), True),\n",
    "    StructField(\"Funder Type\", StringType(), True),\n",
    "    StructField(\"Type\", StringType(), True),\n",
    "    StructField(\"Study Design\", StringType(), True),\n",
    "    StructField(\"Start\", StringType(), True),\n",
    "    StructField(\"Completion\", StringType(), True),\n",
    "])\n",
    "\n",
    "# Load data\n",
    "file_path = \"/FileStore/tables/clinicaltrial_2023/clinicaltrial_2023.csv\"\n",
    "raw_rdd = spark.sparkContext.textFile(file_path)\n",
    "\n",
    "\n",
    "\n",
    "# Process and clean data\n",
    "def clean_and_pad(parts):\n",
    "    # Remove commas, strip quotes and whitespace\n",
    "    cleaned_parts = [part.replace(\",\", \"\").strip().strip('\"') for part in parts]\n",
    "    # Pad the row if it has fewer elements than expected\n",
    "    if len(cleaned_parts) < 14:\n",
    "        cleaned_parts += [\"\"] * (14 - len(cleaned_parts))\n",
    "    return cleaned_parts\n",
    "\n",
    "processed_rdd = raw_rdd.map(lambda line: line.split(\"\\t\")).map(clean_and_pad)\n",
    "\n",
    "\n",
    "# Filter out the header if it's the first row and matches expected headers\n",
    "header = processed_rdd.first()  # Assuming the first row is the header\n",
    "data_rdd = processed_rdd.filter(lambda row: row != header and len(row) == 14)  # Ensure all rows have exactly 14 elements\n",
    "\n",
    "# Create DataFrame\n",
    "df = spark.createDataFrame(data_rdd, schema=schema)\n",
    "df.show()\n",
    "\n",
    "\n",
    "\n",
    "\n",
    "df.createOrReplaceTempView(\"clinical_trials\")\n",
    "\n",
    "# Show the cleaned DataFrame\n",
    "df.show()\n",
    "    \n",
    "\n"
   ]
  },
  {
   "cell_type": "code",
   "execution_count": 0,
   "metadata": {
    "application/vnd.databricks.v1+cell": {
     "cellMetadata": {
      "byteLimit": 2048000,
      "rowLimit": 10000
     },
     "inputWidgets": {},
     "nuid": "5303ee67-337d-4c44-b5fc-f6c293977d31",
     "showTitle": false,
     "title": ""
    }
   },
   "outputs": [
    {
     "output_type": "stream",
     "name": "stdout",
     "output_type": "stream",
     "text": [
      "Out[23]: DataFrame[Id: string, Study Title: string, Acronym: string, Status: string, Conditions: string, Interventions: string, Sponsor: string, Collaborators: string, Enrollment: string, Funder Type: string, Type: string, Study Design: string, Start: string, Completion: string, Start_Cleaned: string, Completion_Cleaned: string, Start_Date: string, Completion_Date: string]"
     ]
    }
   ],
   "source": [
    "%python\n",
    "\n",
    "from pyspark.sql.types import StructType, StructField, StringType, DateType\n",
    "from pyspark.sql.functions import col, udf, lit\n",
    "import re\n",
    "def delete_day(date_str):\n",
    "    \"\"\"Removes the day part from a date string (if present) using regular expressions.\"\"\"\n",
    "    return re.sub(r'(\\b\\d(4)-\\d(2))-\\d(2)\\b', r'\\1', str(date_str))\n",
    "def format_date(date_str):\n",
    "    \"\"\"Formats a date string (YYYY-MM) into a more human-readable format (Month Year).\"\"\"\n",
    "    if date_str:\n",
    "        try:\n",
    "            date_obj = datetime.strptime(date_str, \"%Y-%m\")\n",
    "            return date_obj.strftime(\"%b %Y\")\n",
    "        except ValueError:\n",
    "            return date_str\n",
    "    else:\n",
    "        return date_str\n",
    "# Define UDFs\n",
    "delete_day_udf = udf(delete_day, StringType())\n",
    "format_date_udf = udf(format_date, StringType())\n",
    "# Apply UDFs in the correct order\n",
    "df = df.withColumn(\"Start_Cleaned\", delete_day_udf(col(\"Start\")))\n",
    "df = df.withColumn(\"Completion_Cleaned\", delete_day_udf(col(\"Completion\")))\n",
    "df = df.withColumn(\"Start_Date\", format_date_udf(col(\"Start_Cleaned\")))\n",
    "df.withColumn(\"Completion_Date\", format_date_udf(col(\"Completion_Cleaned\")))\n"
   ]
  },
  {
   "cell_type": "code",
   "execution_count": 0,
   "metadata": {
    "application/vnd.databricks.v1+cell": {
     "cellMetadata": {
      "byteLimit": 2048000,
      "rowLimit": 10000
     },
     "inputWidgets": {},
     "nuid": "fe8ee25a-c29f-4883-b160-84d70389e605",
     "showTitle": false,
     "title": ""
    }
   },
   "outputs": [],
   "source": [
    "%python\n",
    "\n",
    "\n",
    "df = df.drop(\"Start\")\n",
    "df = df.drop(\"Completion\")\n",
    "df = df.drop(\"Start_Date\")\n",
    "\n"
   ]
  },
  {
   "cell_type": "code",
   "execution_count": 0,
   "metadata": {
    "application/vnd.databricks.v1+cell": {
     "cellMetadata": {},
     "inputWidgets": {},
     "nuid": "9ca21324-527a-47b6-a3ad-5e0229dec778",
     "showTitle": false,
     "title": ""
    }
   },
   "outputs": [],
   "source": [
    "#1. The number of studies in the dataset. You must ensure that you explicitly check distinct studies."
   ]
  },
  {
   "cell_type": "code",
   "execution_count": 0,
   "metadata": {
    "application/vnd.databricks.v1+cell": {
     "cellMetadata": {
      "byteLimit": 2048000,
      "rowLimit": 10000
     },
     "inputWidgets": {},
     "nuid": "785ea7a5-d40f-4e22-bd3d-29c9c25d8058",
     "showTitle": false,
     "title": ""
    }
   },
   "outputs": [
    {
     "output_type": "stream",
     "name": "stdout",
     "output_type": "stream",
     "text": [
      "Number of distinct studies: 483422\n"
     ]
    }
   ],
   "source": [
    "\n",
    "\n",
    "# Assuming the first column of your RDD is what you're interested in for distinct counts\n",
    "distinct_first_elements_count = data_rdd.map(lambda row: row[0]).distinct().count()\n",
    "\n",
    "print(f\"Number of distinct studies: {distinct_first_elements_count}\")\n"
   ]
  },
  {
   "cell_type": "code",
   "execution_count": 0,
   "metadata": {
    "application/vnd.databricks.v1+cell": {
     "cellMetadata": {},
     "inputWidgets": {},
     "nuid": "a82e57df-57d6-4c42-93b0-a88c04b73ded",
     "showTitle": false,
     "title": ""
    }
   },
   "outputs": [],
   "source": [
    "#2. You should list all the types (as contained in the Type column) of studies in the dataset along with the frequencies of each type. These should be ordered from most frequent to least frequent."
   ]
  },
  {
   "cell_type": "code",
   "execution_count": 0,
   "metadata": {
    "application/vnd.databricks.v1+cell": {
     "cellMetadata": {
      "byteLimit": 2048000,
      "rowLimit": 10000
     },
     "inputWidgets": {},
     "nuid": "7871b60d-f681-4ef6-95ce-cbdfa83bb955",
     "showTitle": false,
     "title": ""
    }
   },
   "outputs": [
    {
     "output_type": "stream",
     "name": "stdout",
     "output_type": "stream",
     "text": [
      "Type                           Frequency \nINTERVENTIONAL                 371382    \nOBSERVATIONAL                  110221    \nEXPANDED_ACCESS                928       \n                               891       \nType                           1         \n"
     ]
    }
   ],
   "source": [
    "# Extract the \"Type\" column from the RDD and filter out None values\n",
    "type_rdd = processed_rdd.map(lambda row: row[10]).filter(lambda x: x is not None)\n",
    "\n",
    "# Count the occurrences of each type\n",
    "type_counts_rdd = type_rdd.map(lambda type: (type, 1)).reduceByKey(lambda a, b: a + b)\n",
    "\n",
    "# Sort the counts in descending order\n",
    "sorted_type_counts = type_counts_rdd.sortBy(lambda x: x[1], ascending=False)\n",
    "\n",
    "# Collect the sorted counts\n",
    "sorted_type_counts_list = sorted_type_counts.collect()\n",
    "\n",
    "# Print the results\n",
    "print(\"{:<30} {:<10}\".format('Type', 'Frequency'))\n",
    "for type, count in sorted_type_counts_list:\n",
    "    print(\"{:<30} {:<10}\".format(type, count))\n"
   ]
  },
  {
   "cell_type": "code",
   "execution_count": 0,
   "metadata": {
    "application/vnd.databricks.v1+cell": {
     "cellMetadata": {},
     "inputWidgets": {},
     "nuid": "75b4a01f-b3e2-4746-b2bf-5071f89f6b3c",
     "showTitle": false,
     "title": ""
    }
   },
   "outputs": [],
   "source": [
    "#3. The top 5 conditions (from Conditions) with their frequencies."
   ]
  },
  {
   "cell_type": "code",
   "execution_count": 0,
   "metadata": {
    "application/vnd.databricks.v1+cell": {
     "cellMetadata": {
      "byteLimit": 2048000,
      "rowLimit": 10000
     },
     "inputWidgets": {},
     "nuid": "3cf370ac-1d6d-49d0-96b1-0fb4748bf00a",
     "showTitle": false,
     "title": ""
    }
   },
   "outputs": [
    {
     "output_type": "stream",
     "name": "stdout",
     "output_type": "stream",
     "text": [
      "Condition: ('Healthy',), Count: 9731\nCondition: ('Breast Cancer',), Count: 7502\nCondition: ('Obesity',), Count: 6549\nCondition: ('Stroke',), Count: 4073\nCondition: ('Hypertension',), Count: 4022\n"
     ]
    }
   ],
   "source": [
    "# Explode the Conditions column and filter out empty conditions\n",
    "exploded_rdd = processed_rdd.flatMap(lambda row: \n",
    "  # Assuming Conditions is at index 4, check if it's a string before splitting\n",
    "  [(tuple(cond.split(\"|\")),) for cond in (row[4] or \"\").split(\"|\") if cond]) \\\n",
    ".filter(lambda x: x[0] != '')\n",
    "\n",
    "# Count occurrences of each condition\n",
    "condition_counts = exploded_rdd.map(lambda x: (x[0], 1)) \\\n",
    "                                 .reduceByKey(lambda a, b: a + b)\n",
    "\n",
    "# Sort by count in descending order and take the top 5\n",
    "top_5_conditions = condition_counts.sortBy(lambda x: x[1], ascending=False).take(5)\n",
    "\n",
    "# Print the top 5 conditions and their frequencies\n",
    "for condition, count in top_5_conditions:\n",
    "    print(f\"Condition: {condition}, Count: {count}\")\n"
   ]
  },
  {
   "cell_type": "code",
   "execution_count": 0,
   "metadata": {
    "application/vnd.databricks.v1+cell": {
     "cellMetadata": {
      "byteLimit": 2048000,
      "rowLimit": 10000
     },
     "inputWidgets": {},
     "nuid": "7532f2ab-de04-4fe3-b205-e32a0d57841f",
     "showTitle": false,
     "title": ""
    }
   },
   "outputs": [
    {
     "output_type": "stream",
     "name": "stdout",
     "output_type": "stream",
     "text": [
      "Out[28]: [('\"Parent_Company\"',),\n ('\"Abbott Laboratories\"',),\n ('\"AbbVie\"',),\n ('\"AbbVie\"',),\n (' Inc.\"',)]"
     ]
    }
   ],
   "source": [
    "from pyspark.sql import SparkSession\n",
    "\n",
    "# Initialize Spark session\n",
    "spark = SparkSession.builder.appName(\"RDD Example\").getOrCreate()\n",
    "# Define file path\n",
    "file_path = \"/FileStore/tables/pharma/pharma.csv\"\n",
    "# Load the CSV file as an RDD\n",
    "rdd = spark.sparkContext.textFile(file_path)\n",
    "# Extract the header\n",
    "header = rdd.first()\n",
    "# Split each row by comma\n",
    "rdd = rdd.map(lambda row: row.split(','))\n",
    "# Extract the Parent_Company column\n",
    "parent_companies_rdd = rdd.map(lambda row: (row[1],))  # Assuming Parent_Company is at index 1\n",
    "# Show the first few rows of the RDD\n",
    "parent_companies_rdd.take(5)  # You can change 5 to any number to view more or fewer rows\n"
   ]
  },
  {
   "cell_type": "code",
   "execution_count": 0,
   "metadata": {
    "application/vnd.databricks.v1+cell": {
     "cellMetadata": {},
     "inputWidgets": {},
     "nuid": "715efdff-464b-42ab-8502-772f75727fec",
     "showTitle": false,
     "title": ""
    }
   },
   "outputs": [],
   "source": [
    "#4. Find the 10 most common sponsors that are not pharmaceutical companies, along with the number of clinical trials they have sponsored. Hint: For a basic implementation, you can assume that the Parent Company column contains all possible pharmaceutical companies."
   ]
  },
  {
   "cell_type": "code",
   "execution_count": 0,
   "metadata": {
    "application/vnd.databricks.v1+cell": {
     "cellMetadata": {
      "byteLimit": 2048000,
      "rowLimit": 10000
     },
     "inputWidgets": {},
     "nuid": "588c3cc9-f7f2-4de5-8811-f5c166e922c7",
     "showTitle": false,
     "title": ""
    }
   },
   "outputs": [
    {
     "output_type": "stream",
     "name": "stdout",
     "output_type": "stream",
     "text": [
      "Out[29]: [('National Cancer Institute (NCI)', 3410),\n ('Assiut University', 3335),\n ('Cairo University', 3023),\n ('Assistance Publique - Hôpitaux de Paris', 2951),\n ('Mayo Clinic', 2766),\n ('M.D. Anderson Cancer Center', 2702),\n ('Novartis Pharmaceuticals', 2393),\n ('National Institute of Allergy and Infectious Diseases (NIAID)', 2340),\n ('Massachusetts General Hospital', 2263),\n ('National Taiwan University Hospital', 2181)]"
     ]
    }
   ],
   "source": [
    "ct_sponsor_col_index = processed_rdd .first().index('Sponsor')\n",
    "\n",
    "parent_pharm_comp =rdd.map(lambda x: x[1].replace('\"', ''))\n",
    "\n",
    "processed_rdd.map(lambda x: x[ct_sponsor_col_index]).filter(lambda row: row != 'Sponsor').subtract(rdd.map(lambda x: x[1].replace('\"', ''))).map(lambda x: (x, 1)).reduceByKey(lambda x, y: x + y).sortBy(lambda x: x[1], ascending=False).take(10)"
   ]
  },
  {
   "cell_type": "code",
   "execution_count": 0,
   "metadata": {
    "application/vnd.databricks.v1+cell": {
     "cellMetadata": {},
     "inputWidgets": {},
     "nuid": "03529190-2d77-4d10-99c9-463fa3f0e8f7",
     "showTitle": false,
     "title": ""
    }
   },
   "outputs": [],
   "source": [
    "#5. Plot number of completed studies for each month in 2023. You need to include your visualization as well as a table of all the values you have plotted for each month."
   ]
  },
  {
   "cell_type": "code",
   "execution_count": 0,
   "metadata": {
    "application/vnd.databricks.v1+cell": {
     "cellMetadata": {
      "byteLimit": 2048000,
      "rowLimit": 10000
     },
     "inputWidgets": {},
     "nuid": "54dacfdc-3ff8-4b6b-84f6-14275ccfb016",
     "showTitle": false,
     "title": ""
    }
   },
   "outputs": [],
   "source": [
    "from pyspark.sql import Row\n",
    "# Extract necessary fields assuming indexes: Status - 3, Completion - 13\n",
    "# Completion date expected format \"YYYY-MM\"\n",
    "def extract_fields(row):\n",
    "    try:\n",
    "        completion = row[13].split(\"-\")\n",
    "        year = completion[0] if len(completion) > 0 else None\n",
    "        month = completion[1] if len(completion) > 1 else None\n",
    "        status = row[3]\n",
    "        return (month, year, status)\n",
    "    except IndexError:\n",
    "        # Handle the error: you can choose to return None or a default value\n",
    "        return (None, None, None)\n",
    "\n",
    "extracted_rdd = data_rdd.map(extract_fields).filter(lambda x: None not in x)\n",
    "\n",
    "# Filter completed studies and specific year\n",
    "completed_rdd = extracted_rdd.filter(lambda x: x[2] == \"COMPLETED\" and x[1] == \"2023\")"
   ]
  },
  {
   "cell_type": "code",
   "execution_count": 0,
   "metadata": {
    "application/vnd.databricks.v1+cell": {
     "cellMetadata": {
      "byteLimit": 2048000,
      "rowLimit": 10000
     },
     "inputWidgets": {},
     "nuid": "c3a68a76-481b-42b3-93e0-ad8ad04d4d3b",
     "showTitle": false,
     "title": ""
    }
   },
   "outputs": [
    {
     "output_type": "stream",
     "name": "stdout",
     "output_type": "stream",
     "text": [
      "+-----+-----+\n|month|count|\n+-----+-----+\n|    1| 1494|\n|    2| 1272|\n|    3| 1552|\n|    4| 1324|\n|    5| 1415|\n|    6| 1619|\n|    7| 1360|\n|    8| 1230|\n|    9| 1152|\n|   10| 1058|\n|   11|  909|\n|   12| 1082|\n+-----+-----+\n\n"
     ]
    }
   ],
   "source": [
    "\n",
    "\n",
    "# Count by month\n",
    "month_counts = completed_rdd.map(lambda x: (x[0], 1)).reduceByKey(lambda a, b: a + b)\n",
    "\n",
    "# Convert the results into a DataFrame\n",
    "results_rdd = month_counts.map(lambda x: Row(month=int(x[0]), count=x[1])) if month_counts.first()[0].isdigit() \\\n",
    "                               else month_counts.map(lambda x: Row(month=x[0], count=x[1]))\n",
    "results_df = spark.createDataFrame(results_rdd)\n",
    "sorted_results_df = results_df.orderBy(\"month\")\n",
    "\n",
    "# Show the DataFrame as a table\n",
    "sorted_results_df.show()\n",
    "\n",
    "\n"
   ]
  },
  {
   "cell_type": "code",
   "execution_count": 0,
   "metadata": {
    "application/vnd.databricks.v1+cell": {
     "cellMetadata": {
      "byteLimit": 2048000,
      "rowLimit": 10000
     },
     "inputWidgets": {},
     "nuid": "70d250c0-450f-453a-be80-734d72840924",
     "showTitle": false,
     "title": ""
    }
   },
   "outputs": [
    {
     "output_type": "display_data",
     "data": {
      "image/png": "[encoded data removed]"
     },
     "metadata": {
      "application/vnd.databricks.v1+output": {
       "addedWidgets": {},
       "arguments": {},
       "data": "data:image/png;base64,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\n",
       "datasetInfos": [],
       "metadata": {},
       "removedWidgets": [],
       "type": "image"
      }
     },
     "output_type": "display_data"
    }
   ],
   "source": [
    "# Plotting (using matplotlib, assumed to be imported)\n",
    "import matplotlib.pyplot as plt\n",
    "\n",
    "# Extract month and count from DataFrame\n",
    "months = [row[\"month\"] for row in sorted_results_df.collect()]  # Collect results as list of dictionaries\n",
    "counts = [row[\"count\"] for row in sorted_results_df.collect()]\n",
    "\n",
    "plt.figure(figsize=(10, 6))\n",
    "plt.bar(months, counts, color='skyblue')\n",
    "plt.xlabel(\"Month\")\n",
    "plt.ylabel(\"Number of Clinical Trials\")\n",
    "plt.title(\"Distribution of Clinical Trials by Month\")\n",
    "plt.xticks(rotation=0)\n",
    "plt.tight_layout()\n",
    "plt.show()"
   ]
  },
  {
   "cell_type": "code",
   "execution_count": 0,
   "metadata": {
    "application/vnd.databricks.v1+cell": {
     "cellMetadata": {
      "byteLimit": 2048000,
      "rowLimit": 10000
     },
     "inputWidgets": {},
     "nuid": "d7cc0741-1075-470e-954e-fc7a0f000d30",
     "showTitle": false,
     "title": ""
    }
   },
   "outputs": [
    {
     "output_type": "stream",
     "name": "stdout",
     "output_type": "stream",
     "text": [
      "Out[33]: [('2023', 33676),\n ('2011', 18321),\n ('2006', 11314),\n ('', 5146),\n ('2022', 34460),\n ('2008', 14924),\n ('1999', 1730),\n ('2001', 2902),\n ('1996', 647),\n ('1984', 44),\n ('1993', 304),\n ('1992', 224),\n ('1979', 16),\n ('2026', 29),\n ('1977', 24),\n ('1988', 95),\n ('1987', 63),\n ('1980', 20),\n ('1976', 19),\n ('2029', 1),\n ('1963', 1),\n ('1968', 1),\n ('2024', 9481),\n ('2010', 17415),\n ('2012', 19380),\n ('2021', 36610),\n ('2004', 7464),\n ('1991', 183),\n ('1997', 868),\n ('1990', 131),\n ('1994', 330),\n ('1983', 36),\n ('1982', 18),\n ('2028', 2),\n ('2100', 5),\n ('1966', 4),\n ('1975', 4),\n ('1973', 5),\n ('2050', 2),\n ('1969', 2),\n ('1974', 2),\n ('1916', 1),\n ('1948', 1),\n ('Start', 1),\n ('2005', 9338),\n ('2017', 27662),\n ('2015', 24205),\n ('1986', 50),\n ('2002', 4117),\n ('2013', 20252),\n ('1995', 505),\n ('1981', 14),\n ('1971', 7),\n ('1978', 21),\n ('2009', 16290),\n ('2019', 31342),\n ('2000', 2301),\n ('2025', 217),\n ('1985', 45),\n ('1964', 1),\n ('1965', 2),\n ('1972', 8),\n ('1970', 2),\n ('1957', 2),\n ('1931', 1),\n ('2018', 29715),\n ('2020', 32611),\n ('2014', 22527),\n ('2016', 26273),\n ('2007', 12951),\n ('2003', 5654),\n ('1998', 1284),\n ('1989', 101),\n ('2027', 7),\n ('2097', 3),\n ('1967', 1),\n ('2030', 5),\n ('1900', 1),\n ('1958', 1),\n ('1917', 1)]"
     ]
    }
   ],
   "source": [
    "# additional analysis Find the number of clinical trials per year of start date\n",
    "trials_per_year_rdd = data_rdd.map(lambda row: (row[12].split(\"-\")[0], 1)).reduceByKey(lambda a, b: a + b)\n",
    "trials_per_year_rdd.collect()\n"
   ]
  },
  {
   "cell_type": "code",
   "execution_count": 0,
   "metadata": {
    "application/vnd.databricks.v1+cell": {
     "cellMetadata": {
      "byteLimit": 2048000,
      "rowLimit": 10000
     },
     "inputWidgets": {},
     "nuid": "3fa959b2-f841-4eb4-87a7-d90b5c502f11",
     "showTitle": false,
     "title": ""
    }
   },
   "outputs": [],
   "source": []
  }
 ],
 "metadata": {
  "application/vnd.databricks.v1+notebook": {
   "dashboards": [],
   "language": "python",
   "notebookMetadata": {
    "pythonIndentUnit": 4
   },
   "notebookName": "RDD Assignment",
   "widgets": {}
  }
 },
 "nbformat": 4,
 "nbformat_minor": 0
}
